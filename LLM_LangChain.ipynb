{
  "nbformat": 4,
  "nbformat_minor": 0,
  "metadata": {
    "colab": {
      "provenance": [],
      "authorship_tag": "ABX9TyPzmNXcSmrbNRTmDTAYvoM8",
      "include_colab_link": true
    },
    "kernelspec": {
      "name": "python3",
      "display_name": "Python 3"
    },
    "language_info": {
      "name": "python"
    }
  },
  "cells": [
    {
      "cell_type": "markdown",
      "metadata": {
        "id": "view-in-github",
        "colab_type": "text"
      },
      "source": [
        "<a href=\"https://colab.research.google.com/github/fahmidjobbi/ChatterBot/blob/main/LLM_LangChain.ipynb\" target=\"_parent\"><img src=\"https://colab.research.google.com/assets/colab-badge.svg\" alt=\"Open In Colab\"/></a>"
      ]
    },
    {
      "cell_type": "code",
      "execution_count": null,
      "metadata": {
        "id": "OYeOd4_ux2iK"
      },
      "outputs": [],
      "source": [
        "!pip install pinecone-client openai langchain-chroma langchain langchain-openai chromadb pypdf langchain-community pandas xmltodict langchain"
      ]
    },
    {
      "cell_type": "code",
      "source": [
        "!pip install openai==0.28"
      ],
      "metadata": {
        "id": "yAUlgkqlx_5P"
      },
      "execution_count": null,
      "outputs": []
    },
    {
      "cell_type": "code",
      "source": [
        "import xmltodict\n",
        "import pandas as pd\n",
        "from langchain.text_splitter import RecursiveCharacterTextSplitter\n",
        "\n",
        "\n",
        "def load_xml_to_dataframe(xml_file):\n",
        "    \"\"\"Loads an XML file and converts it to a pandas DataFrame.\"\"\"\n",
        "    with open(xml_file, 'r', encoding='utf-8') as file:\n",
        "        xml_data = xmltodict.parse(file.read())\n",
        "\n",
        "    items = xml_data['rss']['channel']['item']  # Adjust based on your XML structure\n",
        "\n",
        "    df = pd.DataFrame(items)\n",
        "\n",
        "    df.fillna('', inplace=True)  # Fill empty values with empty string to avoid NaN\n",
        "\n",
        "    return df\n",
        "\n",
        "def split_text_data(df):\n",
        "    \"\"\"Combines relevant text fields and splits them into labeled chunks.\"\"\"\n",
        "    # Combine relevant text fields, clearly labeled\n",
        "    df['combined_text'] = (\n",
        "        'id: ' + df['g:id'] + '\\n' +\n",
        "        'title: ' + df['title'] + '\\n' +\n",
        "        'description: ' + df['description'] + '\\n' +\n",
        "        'link: ' + df['link'] + '\\n' +\n",
        "        'image_link: ' + df['g:image_link'] + '\\n' +\n",
        "        'availability: ' + df['g:availability'] + '\\n' +\n",
        "        'price: ' + df['g:price'] + '\\n' +\n",
        "        'sale_price: ' + df['g:sale_price'] + '\\n' +\n",
        "        'shipping_type: ' + df['g:shipping_type'] + '\\n' +\n",
        "        'brand: ' + df['g:brand'] + '\\n' +\n",
        "        'condition: ' + df['g:condition'] + '\\n' +\n",
        "        'google_product_category: ' + df['g:google_product_category'] + '\\n' +\n",
        "        'category_name: ' + df['g:category_name'] + '\\n' +\n",
        "        'category_code: ' + df['g:category_code'] + '\\n' +\n",
        "        'inventory: ' + df['g:inventory'] + '\\n' +\n",
        "        'tags: ' + df['g:tags'] + '\\n'  # Add more fields as needed\n",
        "    )\n",
        "\n",
        "    # Initialize the RecursiveCharacterTextSplitter\n",
        "    text_splitter = RecursiveCharacterTextSplitter(\n",
        "        chunk_size=1000,  # Adjust chunk size as needed\n",
        "        chunk_overlap=200,  # Set overlap for context preservation\n",
        "        separators=[\"\\n\\n\", \"\\n\", \" \", \"\"],  # Separators to split text\n",
        "    )\n",
        "\n",
        "    # Split each product's combined text into chunks\n",
        "    all_splits = []\n",
        "    for text in df['combined_text']:\n",
        "        splits = text_splitter.split_text(text)\n",
        "        all_splits.extend(splits)\n",
        "\n",
        "    return all_splits\n",
        "\n",
        "# Load the data\n",
        "xml_file_path = '/content/new-product-feed-tag.xml'  # Path to your XML file\n",
        "df = load_xml_to_dataframe(xml_file_path)\n",
        "\n",
        "# Perform the text splitting\n",
        "text_chunks = split_text_data(df)\n",
        "\n",
        "# Check the result\n",
        "for i, chunk in enumerate(text_chunks, 1):\n",
        "    print(f\"Chunk {i}: {chunk}\")\n",
        "    print(f\"Length of chunk {i}: {len(chunk)}\")\n",
        "    print(\"-\" * 50)"
      ],
      "metadata": {
        "id": "gB_b7dNdyCKz"
      },
      "execution_count": null,
      "outputs": []
    },
    {
      "cell_type": "code",
      "source": [
        "import openai\n",
        "# Function to create embeddings using OpenAI API\n",
        "def create_embeddings(text_chunks):\n",
        "    \"\"\"Creates embeddings for the provided text chunks using OpenAI API.\"\"\"\n",
        "    openai.api_key = \"\"  # Replace with your OpenAI API key\n",
        "\n",
        "    embeddings = []\n",
        "    for chunk in text_chunks:\n",
        "        response = openai.Embedding.create(\n",
        "            model=\"text-embedding-3-large\",  # Replace with desired model\n",
        "            input=chunk\n",
        "        )\n",
        "        embeddings.append(response['data'][0]['embedding'])  # Collect the embeddings\n",
        "\n",
        "    return embeddings\n",
        "\n",
        "# Create embeddings for the text chunks\n",
        "embeddings = create_embeddings(text_chunks)\n",
        "\n",
        "# Check the embeddings result\n",
        "for i, emb in enumerate(embeddings, 1):\n",
        "    print(f\"Embedding {i}: {emb[:10]}...\")  # Print the first 10 elements of the embedding\n",
        "    print(\"-\" * 50)\n"
      ],
      "metadata": {
        "id": "2veGYGsiyEsB"
      },
      "execution_count": null,
      "outputs": []
    },
    {
      "cell_type": "code",
      "source": [
        "import os\n",
        "from langchain_chroma import Chroma\n",
        "from langchain.schema import Document\n",
        "from langchain.embeddings import OpenAIEmbeddings\n",
        "\n",
        "# Define the persist directory (change to a new one if needed)\n",
        "persist_directory = \"/content/persist_directory_new_2\"  # Changed to a new directory path\n",
        "\n",
        "\n",
        "# Create the embedding model using OpenAI's embedding API with the specific model name\n",
        "embedding_model = OpenAIEmbeddings(\n",
        "    openai_api_key=\"\",  # Replace with your OpenAI API key\n",
        "    model=\"text-embedding-3-large\"  # Specify the model here\n",
        ")\n",
        "\n",
        "# Check if the persist directory exists\n",
        "if not os.path.exists(persist_directory):\n",
        "    os.makedirs(persist_directory, mode=0o777)  # mode=0o777 sets full read, write, and execute permissions\n",
        "    print(f\"Directory {persist_directory} created with full permissions.\")\n",
        "\n",
        "    # If the directory doesn't exist, create the vector database\n",
        "    documents = [Document(page_content=chunk, metadata={\"source\": f\"chunk_{i}\"}) for i, chunk in enumerate(text_chunks)]\n",
        "    print(\"Vector database not found... Creating a new one.\")\n",
        "\n",
        "    # Create the vector database and persist it to the specified directory\n",
        "    vectordb = Chroma.from_documents(\n",
        "        documents=documents,\n",
        "        embedding=embedding_model,\n",
        "        persist_directory=persist_directory\n",
        "    )\n",
        "\n",
        "    # The `from_documents` method handles the persistence now, no need to call `persist()`\n",
        "    print(\"Vector database created and persisted.\")\n",
        "else:\n",
        "    print(f\"Persist directory {persist_directory} already exists. Loading existing vector database.\")\n",
        "\n",
        "    # Load the existing vector database\n",
        "    vectordb = Chroma(persist_directory=persist_directory, embedding_function=embedding_model)\n",
        "\n",
        "# You can now use 'vectordb' for further operations (whether new or loaded).\n"
      ],
      "metadata": {
        "id": "1yKMMHLayMKQ"
      },
      "execution_count": null,
      "outputs": []
    },
    {
      "cell_type": "code",
      "source": [
        "import shutil\n",
        "from google.colab import files\n",
        "\n",
        "# Define the persist directory path\n",
        "persist_directory = \"/content/persist_directory_match\"  # Make sure this matches your persist directory\n",
        "\n",
        "# Compress the directory into a .zip file\n",
        "shutil.make_archive(\"/content/persist_directory_match\", 'zip', persist_directory)\n",
        "\n",
        "# Download the .zip file\n",
        "files.download('/content/persist_directory_match.zip')\n"
      ],
      "metadata": {
        "id": "C7cHXkNgyRqf"
      },
      "execution_count": null,
      "outputs": []
    },
    {
      "cell_type": "code",
      "source": [
        "# Assuming the vector database 'vectordb' is already created and available\n",
        "\n",
        "# Retrieve and generate using the relevant snippets of PDF\n",
        "retriever = vectordb.as_retriever(search_type=\"similarity\", search_kwargs={\"k\": 3})\n",
        "\n",
        "# Test retrieval with a sample query\n",
        "query = \"çiçek\"  # Replace with a test query relevant to your documents\n",
        "\n",
        "# Retrieve the top 3 similar documents\n",
        "retrieved_docs = retriever.get_relevant_documents(query)\n",
        "\n",
        "# Display the retrieved documents\n",
        "for doc in retrieved_docs:\n",
        "    print(f\"Document: {doc.page_content}\")\n",
        "    print(f\"Metadata: {doc.metadata}\")\n",
        "    print(\"\\n\" + \"=\"*50 + \"\\n\")\n"
      ],
      "metadata": {
        "id": "FfwSFLkkyUVW"
      },
      "execution_count": null,
      "outputs": []
    },
    {
      "cell_type": "code",
      "source": [
        "import os\n",
        "from langchain_chroma import Chroma\n",
        "from langchain.schema import Document\n",
        "from langchain.embeddings import OpenAIEmbeddings\n",
        "from langchain.vectorstores import Chroma as ChromaVectorStore\n",
        "\n",
        "# Define the persist directory\n",
        "persist_directory = \"/content/persist_directory_match\"\n",
        "\n",
        "# Create the embedding model using OpenAI's embedding API with the specific model name\n",
        "embedding_model = OpenAIEmbeddings(\n",
        "    openai_api_key=\"\",  # Replace with your OpenAI API key\n",
        "    model=\"text-embedding-3-large\"  # Specify the model here\n",
        ")\n",
        "\n",
        "# Check if the persist directory exists\n",
        "if not os.path.exists(persist_directory):\n",
        "    os.makedirs(persist_directory, mode=0o777)  # Create directory with full permissions\n",
        "    print(f\"Directory {persist_directory} created with full permissions.\")\n",
        "    topics_list = ['Çiçek', 'Hediye', 'Yenilebilir Çiçek']\n",
        "    # Example text chunks representing your topics\n",
        "    text_chunks = [\n",
        "      'Çiçek', 'Hediye', 'Yenilebilir Çiçek'\n",
        "    ]\n",
        "\n",
        "    # Create documents from text chunks\n",
        "    documents = [Document(page_content=chunk, metadata={\"source\": f\"chunk_{i}\"}) for i, chunk in enumerate(text_chunks)]\n",
        "    print(\"Vector database not found... Creating a new one.\")\n",
        "\n",
        "    # Create the vector database and persist it\n",
        "    vectordb = Chroma.from_documents(\n",
        "        documents=documents,\n",
        "        embedding=embedding_model,\n",
        "        persist_directory=persist_directory\n",
        "    )\n",
        "    print(\"Vector database created and persisted.\")\n",
        "else:\n",
        "    print(f\"Persist directory {persist_directory} already exists. Loading existing vector database.\")\n",
        "    vectordb = ChromaVectorStore(persist_directory=persist_directory, embedding_function=embedding_model)\n",
        "\n",
        "\n"
      ],
      "metadata": {
        "id": "ogrhC3K2yWuT"
      },
      "execution_count": null,
      "outputs": []
    },
    {
      "cell_type": "code",
      "source": [
        "import time\n",
        "\n",
        "def match_product_type_to_topic(product_type):\n",
        "    # Start the timer\n",
        "    start_time = time.time()\n",
        "\n",
        "    # Generate the embedding for the product type\n",
        "    product_embedding = embedding_model.embed_query(product_type)\n",
        "\n",
        "    # Query the vector database for the most similar topic\n",
        "    results = vectordb.similarity_search_by_vector(product_embedding, k=1)  # Get the top 1 match\n",
        "\n",
        "    if results:\n",
        "        matched_topic = results[0].page_content\n",
        "    else:\n",
        "        matched_topic = \"No matching topic found.\"\n",
        "\n",
        "    # End the timer\n",
        "    end_time = time.time()\n",
        "\n",
        "    # Calculate the elapsed time\n",
        "    elapsed_time = end_time - start_time\n",
        "    print(f\"Time taken for processing: {elapsed_time:.4f} seconds\")\n",
        "\n",
        "    return matched_topic\n",
        "\n",
        "# Example usage\n",
        "product_type = \"çiçekler\"\n",
        "matched_topic = match_product_type_to_topic(product_type)\n",
        "print(f\"The best matching topic for '{product_type}' is: {matched_topic}\")\n"
      ],
      "metadata": {
        "id": "DZyN4WIIydJd"
      },
      "execution_count": null,
      "outputs": []
    }
  ]
}